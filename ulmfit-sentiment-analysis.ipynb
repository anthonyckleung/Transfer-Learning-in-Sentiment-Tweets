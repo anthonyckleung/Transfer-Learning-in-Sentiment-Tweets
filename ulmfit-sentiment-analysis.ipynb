{
 "cells": [
  {
   "cell_type": "markdown",
   "metadata": {},
   "source": [
    "# Transfer Learning in Global Warming Sentiment Tweets"
   ]
  },
  {
   "cell_type": "markdown",
   "metadata": {},
   "source": [
    "The purpose of this execise is to demonstrate the effectiveness of transfer learning in natural language processing (NLP) applications. \n",
    "\n",
    "**Concept/Approach**\n",
    "\n",
    "This notebook focuses on the so-called Universal Language Model Fine-tuning (ULMFiT) introduced by Jeremy Howard and Sebastian Ruder [[1](https://arxiv.org/abs/1801.06146)]. The ULMFiT model consists of three main stages in the building a language model (LM):\n",
    "\n",
    "1. **General-domain LM  pre-training**: Similar to the ImageNet database used in computer vision, the idea is to pre-train a large corpus of text. The ULMFiT has a pre-trained model called the `Wikitext-103` where more than 20,000 Wikipedia articles was trained on. This is alreadly included in the `fastai.text` API, thus, it is not necessary to carry out this step.\n",
    "\n",
    "2. **LM fine-tuning**: Because the target data (typically) comes from a different distribution from the general-domain, it is necessary to fine-tune the LM to adapt to the idosyncrasies of the target data. Howard and Ruder suggested *discriminative fine-tuning* and *slanted triangular learning rates* for fine-tuning the LM. These techniques are available in `fastai` and are described in [[1](https://arxiv.org/abs/1801.06146)].\n",
    "\n",
    "3. **Classifier fine-tuning**: Using the updated weights from the previous step, a classifier\n",
    "can be fine-tuned. Howard and Ruder suggested a few techniques which include *concat pooling* and *gradual unfreezing*. The latter in particular is used in this demonstration. Again, the `fastai` framework allows one to perform this technique.\n",
    "\n",
    "For this demonstration, the Twitter data on people's belief on global warming/climate is used. Note that the sentiment of the tweets are based on the contributors evaluation of the tweets.\n",
    "\n",
    "Data source: [Figure-Eight](https://www.figure-eight.com/data-for-everyone/)\n",
    "\n",
    "**Reference**\n",
    "\n",
    "[1] J. Howard and S. Ruder. 2018.*Universal Language Model Fine-tuning for Text Classification*. [arXiv:1801.06146](https://arxiv.org/abs/1801.06146).\n",
    "\n",
    "\n"
   ]
  },
  {
   "cell_type": "code",
   "execution_count": 1,
   "metadata": {},
   "outputs": [],
   "source": [
    "import pandas as pd\n",
    "import numpy as np\n",
    "import re\n",
    "\n",
    "import seaborn as sns\n",
    "sns.set()\n",
    "sns.set_style({'legend.frameon':True})"
   ]
  },
  {
   "cell_type": "code",
   "execution_count": 2,
   "metadata": {},
   "outputs": [],
   "source": [
    "import fastai\n",
    "from fastai import *\n",
    "from fastai.text import *\n",
    "from fastai.vision import *"
   ]
  },
  {
   "cell_type": "code",
   "execution_count": 3,
   "metadata": {},
   "outputs": [
    {
     "name": "stdout",
     "output_type": "stream",
     "text": [
      "CUDA available\n",
      "PyTorch ver.:  1.1.0\n",
      "fastai ver.:  1.0.34\n"
     ]
    }
   ],
   "source": [
    "import torch\n",
    "print(\"CUDA available\" if torch.cuda.is_available() is True else \"CPU\")\n",
    "print(\"PyTorch ver.: \", torch.__version__)\n",
    "print(\"fastai ver.: \", fastai.__version__)"
   ]
  },
  {
   "cell_type": "markdown",
   "metadata": {},
   "source": [
    "## Exploratory analysis"
   ]
  },
  {
   "cell_type": "markdown",
   "metadata": {},
   "source": [
    "Import data as pandas dataframe. An encoding on the data appears necessary."
   ]
  },
  {
   "cell_type": "code",
   "execution_count": 4,
   "metadata": {},
   "outputs": [
    {
     "data": {
      "text/html": [
       "<div>\n",
       "<style scoped>\n",
       "    .dataframe tbody tr th:only-of-type {\n",
       "        vertical-align: middle;\n",
       "    }\n",
       "\n",
       "    .dataframe tbody tr th {\n",
       "        vertical-align: top;\n",
       "    }\n",
       "\n",
       "    .dataframe thead th {\n",
       "        text-align: right;\n",
       "    }\n",
       "</style>\n",
       "<table border=\"1\" class=\"dataframe\">\n",
       "  <thead>\n",
       "    <tr style=\"text-align: right;\">\n",
       "      <th></th>\n",
       "      <th>tweet</th>\n",
       "      <th>existence</th>\n",
       "      <th>existence.confidence</th>\n",
       "    </tr>\n",
       "  </thead>\n",
       "  <tbody>\n",
       "    <tr>\n",
       "      <th>0</th>\n",
       "      <td>Global warming report urges governments to act...</td>\n",
       "      <td>Yes</td>\n",
       "      <td>1.0000</td>\n",
       "    </tr>\n",
       "    <tr>\n",
       "      <th>1</th>\n",
       "      <td>Fighting poverty and global warming in Africa ...</td>\n",
       "      <td>Yes</td>\n",
       "      <td>1.0000</td>\n",
       "    </tr>\n",
       "    <tr>\n",
       "      <th>2</th>\n",
       "      <td>Carbon offsets: How a Vatican forest failed to...</td>\n",
       "      <td>Yes</td>\n",
       "      <td>0.8786</td>\n",
       "    </tr>\n",
       "    <tr>\n",
       "      <th>3</th>\n",
       "      <td>Carbon offsets: How a Vatican forest failed to...</td>\n",
       "      <td>Yes</td>\n",
       "      <td>1.0000</td>\n",
       "    </tr>\n",
       "    <tr>\n",
       "      <th>4</th>\n",
       "      <td>URUGUAY: Tools Needed for Those Most Vulnerabl...</td>\n",
       "      <td>Yes</td>\n",
       "      <td>0.8087</td>\n",
       "    </tr>\n",
       "    <tr>\n",
       "      <th>5</th>\n",
       "      <td>RT @sejorg: RT @JaymiHeimbuch: Ocean Saltiness...</td>\n",
       "      <td>Yes</td>\n",
       "      <td>1.0000</td>\n",
       "    </tr>\n",
       "    <tr>\n",
       "      <th>6</th>\n",
       "      <td>Global warming evidence all around us|A messag...</td>\n",
       "      <td>Yes</td>\n",
       "      <td>1.0000</td>\n",
       "    </tr>\n",
       "    <tr>\n",
       "      <th>7</th>\n",
       "      <td>Migratory Birds' New Climate Change Strategy: ...</td>\n",
       "      <td>Yes</td>\n",
       "      <td>1.0000</td>\n",
       "    </tr>\n",
       "    <tr>\n",
       "      <th>8</th>\n",
       "      <td>Southern Africa: Competing for Limpopo Water: ...</td>\n",
       "      <td>Yes</td>\n",
       "      <td>1.0000</td>\n",
       "    </tr>\n",
       "    <tr>\n",
       "      <th>9</th>\n",
       "      <td>Global warming to impact wheat, rice productio...</td>\n",
       "      <td>Yes</td>\n",
       "      <td>1.0000</td>\n",
       "    </tr>\n",
       "    <tr>\n",
       "      <th>10</th>\n",
       "      <td>How do we solve this global warming thing? [link]</td>\n",
       "      <td>Yes</td>\n",
       "      <td>0.9073</td>\n",
       "    </tr>\n",
       "    <tr>\n",
       "      <th>11</th>\n",
       "      <td>Blog|A preliminary analysis suggests that natu...</td>\n",
       "      <td>Yes</td>\n",
       "      <td>1.0000</td>\n",
       "    </tr>\n",
       "    <tr>\n",
       "      <th>12</th>\n",
       "      <td>Ecotone: #Climate change from a #population pe...</td>\n",
       "      <td>Yes</td>\n",
       "      <td>0.5488</td>\n",
       "    </tr>\n",
       "    <tr>\n",
       "      <th>13</th>\n",
       "      <td>Climate change blamed as coastal whale migrati...</td>\n",
       "      <td>Yes</td>\n",
       "      <td>0.8823</td>\n",
       "    </tr>\n",
       "    <tr>\n",
       "      <th>14</th>\n",
       "      <td>Spring storm season starting a little late thi...</td>\n",
       "      <td>NaN</td>\n",
       "      <td>1.0000</td>\n",
       "    </tr>\n",
       "  </tbody>\n",
       "</table>\n",
       "</div>"
      ],
      "text/plain": [
       "                                                tweet  ... existence.confidence\n",
       "0   Global warming report urges governments to act...  ...               1.0000\n",
       "1   Fighting poverty and global warming in Africa ...  ...               1.0000\n",
       "2   Carbon offsets: How a Vatican forest failed to...  ...               0.8786\n",
       "3   Carbon offsets: How a Vatican forest failed to...  ...               1.0000\n",
       "4   URUGUAY: Tools Needed for Those Most Vulnerabl...  ...               0.8087\n",
       "5   RT @sejorg: RT @JaymiHeimbuch: Ocean Saltiness...  ...               1.0000\n",
       "6   Global warming evidence all around us|A messag...  ...               1.0000\n",
       "7   Migratory Birds' New Climate Change Strategy: ...  ...               1.0000\n",
       "8   Southern Africa: Competing for Limpopo Water: ...  ...               1.0000\n",
       "9   Global warming to impact wheat, rice productio...  ...               1.0000\n",
       "10  How do we solve this global warming thing? [link]  ...               0.9073\n",
       "11  Blog|A preliminary analysis suggests that natu...  ...               1.0000\n",
       "12  Ecotone: #Climate change from a #population pe...  ...               0.5488\n",
       "13  Climate change blamed as coastal whale migrati...  ...               0.8823\n",
       "14  Spring storm season starting a little late thi...  ...               1.0000\n",
       "\n",
       "[15 rows x 3 columns]"
      ]
     },
     "execution_count": 4,
     "metadata": {},
     "output_type": "execute_result"
    }
   ],
   "source": [
    "df = pd.read_csv('tweet_data.csv', encoding='latin-1')\n",
    "df.head(15)"
   ]
  },
  {
   "cell_type": "code",
   "execution_count": 5,
   "metadata": {},
   "outputs": [
    {
     "data": {
      "text/plain": [
       "'RT @sejorg: RT @JaymiHeimbuch: Ocean Saltiness Shows Global Warming Is Intensifying Our Water Cycle [link]'"
      ]
     },
     "execution_count": 5,
     "metadata": {},
     "output_type": "execute_result"
    }
   ],
   "source": [
    "df['tweet'][5]"
   ]
  },
  {
   "cell_type": "code",
   "execution_count": 6,
   "metadata": {},
   "outputs": [
    {
     "data": {
      "text/html": [
       "<div>\n",
       "<style scoped>\n",
       "    .dataframe tbody tr th:only-of-type {\n",
       "        vertical-align: middle;\n",
       "    }\n",
       "\n",
       "    .dataframe tbody tr th {\n",
       "        vertical-align: top;\n",
       "    }\n",
       "\n",
       "    .dataframe thead th {\n",
       "        text-align: right;\n",
       "    }\n",
       "</style>\n",
       "<table border=\"1\" class=\"dataframe\">\n",
       "  <thead>\n",
       "    <tr style=\"text-align: right;\">\n",
       "      <th></th>\n",
       "      <th>tweet</th>\n",
       "      <th>existence</th>\n",
       "      <th>existence.confidence</th>\n",
       "    </tr>\n",
       "  </thead>\n",
       "  <tbody>\n",
       "    <tr>\n",
       "      <th>6085</th>\n",
       "      <td>@bloodless_coup \"The phrase 'global warming' s...</td>\n",
       "      <td>Y</td>\n",
       "      <td>1.0000</td>\n",
       "    </tr>\n",
       "    <tr>\n",
       "      <th>6086</th>\n",
       "      <td>Virginia to Investigate Global Warming Scienti...</td>\n",
       "      <td>NaN</td>\n",
       "      <td>1.0000</td>\n",
       "    </tr>\n",
       "    <tr>\n",
       "      <th>6087</th>\n",
       "      <td>Global warming you tube parody you will enjoy ...</td>\n",
       "      <td>N</td>\n",
       "      <td>0.6411</td>\n",
       "    </tr>\n",
       "    <tr>\n",
       "      <th>6088</th>\n",
       "      <td>One-Eyed Golfer: Don't dare tell me about glob...</td>\n",
       "      <td>N</td>\n",
       "      <td>1.0000</td>\n",
       "    </tr>\n",
       "    <tr>\n",
       "      <th>6089</th>\n",
       "      <td>man made global warming a hair brained theory ...</td>\n",
       "      <td>N</td>\n",
       "      <td>1.0000</td>\n",
       "    </tr>\n",
       "  </tbody>\n",
       "</table>\n",
       "</div>"
      ],
      "text/plain": [
       "                                                  tweet  ... existence.confidence\n",
       "6085  @bloodless_coup \"The phrase 'global warming' s...  ...               1.0000\n",
       "6086  Virginia to Investigate Global Warming Scienti...  ...               1.0000\n",
       "6087  Global warming you tube parody you will enjoy ...  ...               0.6411\n",
       "6088  One-Eyed Golfer: Don't dare tell me about glob...  ...               1.0000\n",
       "6089  man made global warming a hair brained theory ...  ...               1.0000\n",
       "\n",
       "[5 rows x 3 columns]"
      ]
     },
     "execution_count": 6,
     "metadata": {},
     "output_type": "execute_result"
    }
   ],
   "source": [
    "df.tail()"
   ]
  },
  {
   "cell_type": "markdown",
   "metadata": {},
   "source": [
    "**Observations**: For this exercise, the `existence.confidence` column is dropped. Also note that there are some responses with 'Y' and 'N' under the `existence` column rather than 'Yes' and 'No', respectively. Those values will be converted to 'Yes' and 'No'. The NaN values under the `existence` column correspond to ambiguous tweets. For simplicity on this analysis, ambiguous tweets are removed. Furthermore, some Twitter links have also been replaced with '[link]' which should be removed (along with actual links) since it serves no meaning in this analysis. Same goes for twitter handles(@user). Any other text preprocessing can be left with the `fastai.text` API which is done later."
   ]
  },
  {
   "cell_type": "code",
   "execution_count": 7,
   "metadata": {},
   "outputs": [],
   "source": [
    "df = df.drop(columns='existence.confidence')"
   ]
  },
  {
   "cell_type": "markdown",
   "metadata": {},
   "source": [
    "Look at the distribution of the sentiment output."
   ]
  },
  {
   "cell_type": "code",
   "execution_count": 8,
   "metadata": {},
   "outputs": [
    {
     "data": {
      "text/plain": [
       "<matplotlib.axes._subplots.AxesSubplot at 0x20c04d86b38>"
      ]
     },
     "execution_count": 8,
     "metadata": {},
     "output_type": "execute_result"
    },
    {
     "data": {
      "image/png": "[encoded data removed]",
      "text/plain": [
       "<Figure size 432x288 with 1 Axes>"
      ]
     },
     "metadata": {},
     "output_type": "display_data"
    }
   ],
   "source": [
    "df['existence'].value_counts().plot.bar()"
   ]
  },
  {
   "cell_type": "code",
   "execution_count": 9,
   "metadata": {},
   "outputs": [],
   "source": [
    "df['existence'] = df['existence'].replace({'Y': 'Yes', 'N': 'No'})\n",
    "df = df.dropna(subset=['existence'])\n",
    "#df['existence'].fillna('Ambiguous', inplace = True)"
   ]
  },
  {
   "cell_type": "code",
   "execution_count": 10,
   "metadata": {},
   "outputs": [
    {
     "data": {
      "text/plain": [
       "<matplotlib.axes._subplots.AxesSubplot at 0x20c04e7b5f8>"
      ]
     },
     "execution_count": 10,
     "metadata": {},
     "output_type": "execute_result"
    },
    {
     "data": {
      "image/png": "[encoded data removed]",
      "text/plain": [
       "<Figure size 432x288 with 1 Axes>"
      ]
     },
     "metadata": {},
     "output_type": "display_data"
    }
   ],
   "source": [
    "df['existence'].value_counts().plot.bar()"
   ]
  },
  {
   "cell_type": "markdown",
   "metadata": {},
   "source": [
    "**Observation**: The data set is not balanced. Nevertheless, the analysis will proceed as is."
   ]
  },
  {
   "cell_type": "markdown",
   "metadata": {},
   "source": [
    "### Clean Tweets"
   ]
  },
  {
   "cell_type": "markdown",
   "metadata": {},
   "source": [
    "Upon importing the data file into the pandas dataframe, there were some errors regarding parsing certain characters. To ensure that all tweet appear as the English language, it is necessary to remove any non-ASCII characters from the data set."
   ]
  },
  {
   "cell_type": "code",
   "execution_count": 11,
   "metadata": {},
   "outputs": [],
   "source": [
    "def clean_ascii(text):\n",
    "    # Method to remove non-ASCII characters from text data\n",
    "    return ''.join(i for i in text if ord(i) < 128)"
   ]
  },
  {
   "cell_type": "code",
   "execution_count": 12,
   "metadata": {},
   "outputs": [],
   "source": [
    "df['tweet'] = df['tweet'].apply(clean_ascii)\n",
    "df['tweet'] = df['tweet'].str.strip('[link]') # Remove '[link]'\n",
    "df['tweet'] = df['tweet'].replace(r'RT+', '', regex=True) # Remove 'RT', which stands for \"retweet\"\n",
    "df['tweet'] = df['tweet'].replace(r'@\\S+', '', regex=True) # Remove twitter handles\n",
    "df['tweet'] = df['tweet'].replace(r'http\\S+', '', regex = True).replace(r'www\\S+', '', regex=True) # Remove websites"
   ]
  },
  {
   "cell_type": "code",
   "execution_count": 13,
   "metadata": {},
   "outputs": [
    {
     "data": {
      "text/html": [
       "<div>\n",
       "<style scoped>\n",
       "    .dataframe tbody tr th:only-of-type {\n",
       "        vertical-align: middle;\n",
       "    }\n",
       "\n",
       "    .dataframe tbody tr th {\n",
       "        vertical-align: top;\n",
       "    }\n",
       "\n",
       "    .dataframe thead th {\n",
       "        text-align: right;\n",
       "    }\n",
       "</style>\n",
       "<table border=\"1\" class=\"dataframe\">\n",
       "  <thead>\n",
       "    <tr style=\"text-align: right;\">\n",
       "      <th></th>\n",
       "      <th>tweet</th>\n",
       "      <th>existence</th>\n",
       "    </tr>\n",
       "  </thead>\n",
       "  <tbody>\n",
       "    <tr>\n",
       "      <th>0</th>\n",
       "      <td>Global warming report urges governments to act...</td>\n",
       "      <td>Yes</td>\n",
       "    </tr>\n",
       "    <tr>\n",
       "      <th>1</th>\n",
       "      <td>Fighting poverty and global warming in Africa</td>\n",
       "      <td>Yes</td>\n",
       "    </tr>\n",
       "    <tr>\n",
       "      <th>2</th>\n",
       "      <td>Carbon offsets: How a Vatican forest failed to...</td>\n",
       "      <td>Yes</td>\n",
       "    </tr>\n",
       "    <tr>\n",
       "      <th>3</th>\n",
       "      <td>Carbon offsets: How a Vatican forest failed to...</td>\n",
       "      <td>Yes</td>\n",
       "    </tr>\n",
       "    <tr>\n",
       "      <th>4</th>\n",
       "      <td>URUGUAY: Tools Needed for Those Most Vulnerabl...</td>\n",
       "      <td>Yes</td>\n",
       "    </tr>\n",
       "  </tbody>\n",
       "</table>\n",
       "</div>"
      ],
      "text/plain": [
       "                                               tweet existence\n",
       "0  Global warming report urges governments to act...       Yes\n",
       "1     Fighting poverty and global warming in Africa        Yes\n",
       "2  Carbon offsets: How a Vatican forest failed to...       Yes\n",
       "3  Carbon offsets: How a Vatican forest failed to...       Yes\n",
       "4  URUGUAY: Tools Needed for Those Most Vulnerabl...       Yes"
      ]
     },
     "execution_count": 13,
     "metadata": {},
     "output_type": "execute_result"
    }
   ],
   "source": [
    "df.head()"
   ]
  },
  {
   "cell_type": "code",
   "execution_count": 14,
   "metadata": {},
   "outputs": [
    {
     "data": {
      "text/plain": [
       "'    Ocean Saltiness Shows Global Warming Is Intensifying Our Water Cycle '"
      ]
     },
     "execution_count": 14,
     "metadata": {},
     "output_type": "execute_result"
    }
   ],
   "source": [
    "df['tweet'][5]"
   ]
  },
  {
   "cell_type": "code",
   "execution_count": 15,
   "metadata": {},
   "outputs": [
    {
     "data": {
      "text/html": [
       "<div>\n",
       "<style scoped>\n",
       "    .dataframe tbody tr th:only-of-type {\n",
       "        vertical-align: middle;\n",
       "    }\n",
       "\n",
       "    .dataframe tbody tr th {\n",
       "        vertical-align: top;\n",
       "    }\n",
       "\n",
       "    .dataframe thead th {\n",
       "        text-align: right;\n",
       "    }\n",
       "</style>\n",
       "<table border=\"1\" class=\"dataframe\">\n",
       "  <thead>\n",
       "    <tr style=\"text-align: right;\">\n",
       "      <th></th>\n",
       "      <th>tweet</th>\n",
       "      <th>existence</th>\n",
       "    </tr>\n",
       "  </thead>\n",
       "  <tbody>\n",
       "    <tr>\n",
       "      <th>6084</th>\n",
       "      <td>It's 83_ and climbing in NYC. August weather f...</td>\n",
       "      <td>Yes</td>\n",
       "    </tr>\n",
       "    <tr>\n",
       "      <th>6085</th>\n",
       "      <td>\"The phrase 'global warming' should be abando...</td>\n",
       "      <td>Yes</td>\n",
       "    </tr>\n",
       "    <tr>\n",
       "      <th>6087</th>\n",
       "      <td>Global warming you tube parody you will enjoy ...</td>\n",
       "      <td>No</td>\n",
       "    </tr>\n",
       "    <tr>\n",
       "      <th>6088</th>\n",
       "      <td>One-Eyed Golfer: Don't dare tell me about glob...</td>\n",
       "      <td>No</td>\n",
       "    </tr>\n",
       "    <tr>\n",
       "      <th>6089</th>\n",
       "      <td>man made global warming a hair brained theory ...</td>\n",
       "      <td>No</td>\n",
       "    </tr>\n",
       "  </tbody>\n",
       "</table>\n",
       "</div>"
      ],
      "text/plain": [
       "                                                  tweet existence\n",
       "6084  It's 83_ and climbing in NYC. August weather f...       Yes\n",
       "6085   \"The phrase 'global warming' should be abando...       Yes\n",
       "6087  Global warming you tube parody you will enjoy ...        No\n",
       "6088  One-Eyed Golfer: Don't dare tell me about glob...        No\n",
       "6089  man made global warming a hair brained theory ...        No"
      ]
     },
     "execution_count": 15,
     "metadata": {},
     "output_type": "execute_result"
    }
   ],
   "source": [
    "df.tail()"
   ]
  },
  {
   "cell_type": "markdown",
   "metadata": {},
   "source": [
    "Split the data into training and testing sets."
   ]
  },
  {
   "cell_type": "code",
   "execution_count": 16,
   "metadata": {},
   "outputs": [],
   "source": [
    "#from sklearn.model_selection import train_test_split\n",
    "\n",
    "#train, test = train_test_split(df, test_size = 0.2, random_state = 43, stratify = df[['existence']])"
   ]
  },
  {
   "cell_type": "code",
   "execution_count": 17,
   "metadata": {},
   "outputs": [],
   "source": [
    "df_copy = df.copy()\n",
    "train_df = df_copy.sample(frac = 0.8, random_state = 42)\n",
    "val_df = df_copy.drop(train_df.index)"
   ]
  },
  {
   "cell_type": "markdown",
   "metadata": {},
   "source": [
    "Check to make sure that the distribution of the outputs between the training and testing sets are similar."
   ]
  },
  {
   "cell_type": "code",
   "execution_count": 18,
   "metadata": {},
   "outputs": [
    {
     "data": {
      "text/plain": [
       "Yes    2497\n",
       "No      883\n",
       "Name: existence, dtype: int64"
      ]
     },
     "execution_count": 18,
     "metadata": {},
     "output_type": "execute_result"
    }
   ],
   "source": [
    "train_df['existence'].value_counts()"
   ]
  },
  {
   "cell_type": "code",
   "execution_count": 19,
   "metadata": {},
   "outputs": [
    {
     "data": {
      "text/plain": [
       "Yes    614\n",
       "No     231\n",
       "Name: existence, dtype: int64"
      ]
     },
     "execution_count": 19,
     "metadata": {},
     "output_type": "execute_result"
    }
   ],
   "source": [
    "val_df['existence'].value_counts()"
   ]
  },
  {
   "cell_type": "markdown",
   "metadata": {},
   "source": [
    "Note that ULMFit requires the dataframe structured to be labels follow by the text, respectively."
   ]
  },
  {
   "cell_type": "code",
   "execution_count": 20,
   "metadata": {},
   "outputs": [
    {
     "data": {
      "text/html": [
       "<div>\n",
       "<style scoped>\n",
       "    .dataframe tbody tr th:only-of-type {\n",
       "        vertical-align: middle;\n",
       "    }\n",
       "\n",
       "    .dataframe tbody tr th {\n",
       "        vertical-align: top;\n",
       "    }\n",
       "\n",
       "    .dataframe thead th {\n",
       "        text-align: right;\n",
       "    }\n",
       "</style>\n",
       "<table border=\"1\" class=\"dataframe\">\n",
       "  <thead>\n",
       "    <tr style=\"text-align: right;\">\n",
       "      <th></th>\n",
       "      <th>existence</th>\n",
       "      <th>tweet</th>\n",
       "    </tr>\n",
       "  </thead>\n",
       "  <tbody>\n",
       "    <tr>\n",
       "      <th>2361</th>\n",
       "      <td>Yes</td>\n",
       "      <td>Putting a Price on Climate Change: The People'...</td>\n",
       "    </tr>\n",
       "    <tr>\n",
       "      <th>3527</th>\n",
       "      <td>Yes</td>\n",
       "      <td>Can someone please explain to conservatives ...</td>\n",
       "    </tr>\n",
       "    <tr>\n",
       "      <th>5662</th>\n",
       "      <td>No</td>\n",
       "      <td>Special Report: Networks Hide the Decline in C...</td>\n",
       "    </tr>\n",
       "    <tr>\n",
       "      <th>5962</th>\n",
       "      <td>Yes</td>\n",
       "      <td>Climate Change and the Desert USGS workshop in...</td>\n",
       "    </tr>\n",
       "    <tr>\n",
       "      <th>3533</th>\n",
       "      <td>Yes</td>\n",
       "      <td>my \"side\" is science, &amp; it's well-founded. Po...</td>\n",
       "    </tr>\n",
       "  </tbody>\n",
       "</table>\n",
       "</div>"
      ],
      "text/plain": [
       "     existence                                              tweet\n",
       "2361       Yes  Putting a Price on Climate Change: The People'...\n",
       "3527       Yes    Can someone please explain to conservatives ...\n",
       "5662        No  Special Report: Networks Hide the Decline in C...\n",
       "5962       Yes  Climate Change and the Desert USGS workshop in...\n",
       "3533       Yes   my \"side\" is science, & it's well-founded. Po..."
      ]
     },
     "execution_count": 20,
     "metadata": {},
     "output_type": "execute_result"
    }
   ],
   "source": [
    "train = pd.concat([train_df['existence'], train_df['tweet']], axis = 1)\n",
    "val = pd.concat([val_df['existence'], val_df['tweet']], axis = 1)\n",
    "train.head()"
   ]
  },
  {
   "cell_type": "markdown",
   "metadata": {},
   "source": [
    "## Transfer Learning: Fine-tuning language model"
   ]
  },
  {
   "cell_type": "markdown",
   "metadata": {},
   "source": [
    "Now comes to the part where the ULMFiT is demonstrated on the present sentiment analysis. Recall that the `WikiText-103` pre-training language model is used for fine-tuning."
   ]
  },
  {
   "cell_type": "markdown",
   "metadata": {},
   "source": [
    "### Preprocess data through `fastai.text` API"
   ]
  },
  {
   "cell_type": "code",
   "execution_count": 21,
   "metadata": {},
   "outputs": [],
   "source": [
    "# For some reason, there is a memory problem in the TextClasDataBunch class.\n",
    "# Had to modify the tokenizer to utilize only 1 cpu.\n",
    "myTokenizer = Tokenizer(tok_func = SpacyTokenizer, n_cpus = 1)\n",
    "\n",
    "data_lm = TextLMDataBunch.from_df('./',train_df = train, valid_df = val, \n",
    "                                tokenizer = myTokenizer, min_freq = 1)\n",
    "data_lm.save()"
   ]
  },
  {
   "cell_type": "code",
   "execution_count": 22,
   "metadata": {},
   "outputs": [
    {
     "data": {
      "text/html": [
       "<table>  <col width='5%'>  <col width='95%'>  <tr>\n",
       "    <th>idx</th>\n",
       "    <th>text</th>\n",
       "  </tr>\n",
       "  <tr>\n",
       "    <th>0</th>\n",
       "    <th>xxbos xxfld 1 launches , backed by xxmaj wired , xxmaj atlantic , xxmaj mother xxmaj jones , xxmaj slate , xxup cir , xxup npr , to report climate change impacts , responses xxbos xxfld 1 xxmaj study : xxup se xxmaj asia will be hit hard by climate change xxbos xxfld 1 xxup cow xxup fas xxup exonerated xxup from xxup global xxup warming xxmaj al xxmaj gore</th>\n",
       "  </tr>\n",
       "  <tr>\n",
       "    <th>1</th>\n",
       "    <th>warming ! have you considered the xxunk that your climate models are wrong ? # tcot xxbos xxfld 1 xxmaj many global issues require universal co - operation to address e.g. smallpox , ozone layer , climate change xxbos xxfld 1 xxmaj yeah totally ; so when snow melts ; they can show evidence ;) no ? xxmaj will xxmaj global xxmaj warming xxmaj mean xxmaj more xxmaj snow ?</th>\n",
       "  </tr>\n",
       "  <tr>\n",
       "    <th>2</th>\n",
       "    <th>warming as a hoax . xxbos xxfld 1 xxmaj it 's really amazing how sore you feel after shoveling 28 \" of global warming off of your xxunk & driveway . # xxunk # snomg xxbos xxfld 1 xxmaj world xxmaj people 's xxmaj conference xxmaj on xxmaj climate xxmaj change ( via xxbos xxfld 1 \" xxup d.c. xxmaj snowstorm : xxmaj how xxmaj global xxmaj warming xxmaj makes</th>\n",
       "  </tr>\n",
       "  <tr>\n",
       "    <th>3</th>\n",
       "    <th>the xxmaj good xxmaj news xxmaj about the xxmaj very xxmaj bad xxmaj news ( xxmaj about xxmaj climate xxmaj change ) - xxup good xxmaj blog - xxup good ( via xxbos xxfld 1 xxmaj sen. xxmaj lindsey xxmaj graham : ' i care equally about immigration and climate change ' : i 'll sit down with my c .. xxbos xxfld 1 xxmaj global xxmaj warming xxmaj baloney</th>\n",
       "  </tr>\n",
       "  <tr>\n",
       "    <th>4</th>\n",
       "    <th># xxunk ! # xxup snobama : xxup dc 's 2010 xxup snow , xxup blasts xxup obama , xxup ipcc & xxup global xxup warming xxbos xxfld 1 xxmaj carbon xxmaj diary : xxmaj xxunk fronts up climate change xxbos xxfld 1 i hate global warming ! # stopglobalwarming # stopglobalwarming xxbos xxfld 1 xxmaj invasive xxmaj news : xxmaj invasive xxmaj species xxmaj thriving in xxmaj period of</th>\n",
       "  </tr>\n",
       "</table>\n"
      ],
      "text/plain": [
       "<IPython.core.display.HTML object>"
      ]
     },
     "metadata": {},
     "output_type": "display_data"
    }
   ],
   "source": [
    "data_lm.show_batch()"
   ]
  },
  {
   "cell_type": "markdown",
   "metadata": {},
   "source": [
    "**Observation**: The above is an example that shows the tokenization technique used by `fastai.text` which involves some advanced technqiues to capture semantic meaning from the text. Details of the tokenization rules can be found [here](https://docs.fast.ai/text.transform.html)."
   ]
  },
  {
   "cell_type": "markdown",
   "metadata": {},
   "source": [
    "### Define learning object for NLP model"
   ]
  },
  {
   "cell_type": "code",
   "execution_count": 23,
   "metadata": {},
   "outputs": [
    {
     "name": "stderr",
     "output_type": "stream",
     "text": [
      "C:\\Users\\Anthony\\Anaconda3\\lib\\site-packages\\fastai\\datasets.py:75: YAMLLoadWarning: calling yaml.load() without Loader=... is deprecated, as the default Loader is unsafe. Please read https://msg.pyyaml.org/load for full details.\n",
      "  with open(fpath, 'r') as yaml_file: return yaml.load(yaml_file)\n"
     ]
    }
   ],
   "source": [
    "learn = language_model_learner(data = data_lm, pretrained_model=URLs.WT103_1, drop_mult=0.5)"
   ]
  },
  {
   "cell_type": "markdown",
   "metadata": {},
   "source": [
    "### Get an idea on the optimum learning rate"
   ]
  },
  {
   "cell_type": "code",
   "execution_count": 24,
   "metadata": {},
   "outputs": [
    {
     "data": {
      "text/html": [],
      "text/plain": [
       "<IPython.core.display.HTML object>"
      ]
     },
     "metadata": {},
     "output_type": "display_data"
    },
    {
     "name": "stdout",
     "output_type": "stream",
     "text": [
      "LR Finder is complete, type {learner_name}.recorder.plot() to see the graph.\n"
     ]
    },
    {
     "data": {
      "image/png": "[encoded data removed]",
      "text/plain": [
       "<Figure size 432x288 with 1 Axes>"
      ]
     },
     "metadata": {},
     "output_type": "display_data"
    }
   ],
   "source": [
    "learn.lr_find()\n",
    "learn.recorder.plot()"
   ]
  },
  {
   "cell_type": "markdown",
   "metadata": {},
   "source": [
    "**Observation**: The lowest point of the curve occurs about 1e+0. Note that the learning rate finder will increase the learning rate after each mini-batch. As shown in the plot, eventually too high of a learning rate results to a higher loss. Therefore, choose a learning rate that is about 1 order of magnitude smaller than the optimal value. Start with 1e-1."
   ]
  },
  {
   "cell_type": "markdown",
   "metadata": {},
   "source": [
    "### Discriminative fine-tuning"
   ]
  },
  {
   "cell_type": "markdown",
   "metadata": {},
   "source": [
    "According to Howard and Ruder [[1](https://arxiv.org/abs/1801.06146)], it was found empirically that discriminative fine-tuning on the LM works well by first fine-tuning only the last layer with some learning rate $\\eta^{L}$ and then fine-tune the lower $l$ layers by using $\\eta^{l-1}=\\eta^{l}/2.6$ as the learning rate. "
   ]
  },
  {
   "cell_type": "markdown",
   "metadata": {},
   "source": [
    "#### Fine-tune the last layer"
   ]
  },
  {
   "cell_type": "code",
   "execution_count": 25,
   "metadata": {},
   "outputs": [
    {
     "data": {
      "text/html": [
       "<table border=\"1\" class=\"dataframe\">\n",
       "  <thead>\n",
       "    <tr style=\"text-align: left;\">\n",
       "      <th>epoch</th>\n",
       "      <th>train_loss</th>\n",
       "      <th>valid_loss</th>\n",
       "      <th>accuracy</th>\n",
       "    </tr>\n",
       "  </thead>\n",
       "  <tbody>\n",
       "    <tr>\n",
       "      <td>1</td>\n",
       "      <td>4.405453</td>\n",
       "      <td>3.204784</td>\n",
       "      <td>0.427161</td>\n",
       "    </tr>\n",
       "  </tbody>\n",
       "</table>"
      ],
      "text/plain": [
       "<IPython.core.display.HTML object>"
      ]
     },
     "metadata": {},
     "output_type": "display_data"
    }
   ],
   "source": [
    "learn.freeze()\n",
    "learn.fit_one_cycle(cyc_len = 1, max_lr = 1e-1, moms = (0.8, 0.7))"
   ]
  },
  {
   "cell_type": "markdown",
   "metadata": {},
   "source": [
    "#### Fine-tune the lower layers"
   ]
  },
  {
   "cell_type": "markdown",
   "metadata": {},
   "source": [
    "Here, set the cycle length no more than 5 since it was observed that the model begins to overfit beyond that point."
   ]
  },
  {
   "cell_type": "code",
   "execution_count": 26,
   "metadata": {},
   "outputs": [
    {
     "data": {
      "text/html": [
       "<table border=\"1\" class=\"dataframe\">\n",
       "  <thead>\n",
       "    <tr style=\"text-align: left;\">\n",
       "      <th>epoch</th>\n",
       "      <th>train_loss</th>\n",
       "      <th>valid_loss</th>\n",
       "      <th>accuracy</th>\n",
       "    </tr>\n",
       "  </thead>\n",
       "  <tbody>\n",
       "    <tr>\n",
       "      <td>1</td>\n",
       "      <td>3.258694</td>\n",
       "      <td>2.942687</td>\n",
       "      <td>0.461239</td>\n",
       "    </tr>\n",
       "  </tbody>\n",
       "</table>"
      ],
      "text/plain": [
       "<IPython.core.display.HTML object>"
      ]
     },
     "metadata": {},
     "output_type": "display_data"
    }
   ],
   "source": [
    "learn.unfreeze()\n",
    "learn.fit_one_cycle(cyc_len = 1, max_lr = 1e-2, moms = (0.9, 0.8))"
   ]
  },
  {
   "cell_type": "code",
   "execution_count": 27,
   "metadata": {},
   "outputs": [],
   "source": [
    "# Save the fine-tuned encoder to be used later for fine-tuning the classifier\n",
    "learn.save_encoder('ft_enc')"
   ]
  },
  {
   "cell_type": "code",
   "execution_count": 28,
   "metadata": {},
   "outputs": [
    {
     "data": {
      "text/html": [
       "<table>  <col width='34%'>  <col width='33%'>  <col width='33%'>  <tr>\n",
       "    <th>text</th>\n",
       "    <th>target</th>\n",
       "    <th>pred</th>\n",
       "  </tr>\n",
       "  <tr>\n",
       "    <th>xxbos xxfld 1 xxmaj fighting poverty and global warming in xxmaj africa xxbos xxfld 1 xxup uruguay : xxmaj tools</th>\n",
       "    <th>needed for xxmaj those xxmaj most xxmaj vulnerable to xxmaj climate xxmaj change xxbos xxfld 1 xxmaj global warming to</th>\n",
       "    <th>needed for xxmaj climate xxmaj most xxmaj vulnerable to xxmaj climate xxmaj change : xxfld 1 xxmaj xxunk warming means</th>\n",
       "  </tr>\n",
       "  <tr>\n",
       "    <th>xxfld 1 xxmaj even the generals know climate change is going to screw us . xxbos xxfld 1 xxmaj climate</th>\n",
       "    <th>increases heat waves , floods : xxup epa xxbos xxfld 1 xxmaj climate change melts two xxunk , xxmaj xxunk</th>\n",
       "    <th>is heat waves , waves , xxmaj xxunk xxmaj xxfld 1 xxmaj xxunk change is the more : xxmaj xxunk</th>\n",
       "  </tr>\n",
       "  <tr>\n",
       "    <th>the world 's .. xxbos xxfld 1 xxmaj african xxmaj xxunk xxmaj services xxmaj xxunk xxmaj up for xxmaj climate</th>\n",
       "    <th>change . ( xxunk ) # xxup xxunk xxbos xxfld 1 xxmaj report : xxmaj allergy xxmaj season to xxmaj</th>\n",
       "    <th>change xxmaj xxmaj via ) xxbos xxunk tcot # xxfld 1 xxmaj xxunk : xxmaj global xxmaj season to xxmaj</th>\n",
       "  </tr>\n",
       "  <tr>\n",
       "    <th>: xxmaj time xxmaj xxunk xxmaj xxunk xxmaj africa : xxup there is no doubt that climate change as an</th>\n",
       "    <th>issue ha ... xxbos xxfld 1 xxmaj seasonal xxmaj allergies xxmaj getting xxmaj worse xxmaj from xxmaj climate xxmaj change</th>\n",
       "    <th>issue is ... xxbos xxfld 1 xxmaj xxunk xxmaj allergies xxmaj worse xxmaj worse xxmaj from xxmaj climate xxmaj change</th>\n",
       "  </tr>\n",
       "  <tr>\n",
       "    <th>xxmaj perceptions : xxmaj the effects of climate change - such as drought ... xxbos xxfld 1 xxmaj leaked xxup</th>\n",
       "    <th>xxmaj document xxmaj calls xxmaj for _ xxmaj global xxmaj regime _ xxmaj to xxmaj tackle xxmaj climate xxmaj change</th>\n",
       "    <th>xxmaj document xxmaj calls xxmaj for xxmaj xxmaj climate xxmaj warming xxmaj xxmaj xxunk xxmaj combat xxmaj climate xxmaj change</th>\n",
       "  </tr>\n",
       "</table>\n"
      ],
      "text/plain": [
       "<IPython.core.display.HTML object>"
      ]
     },
     "metadata": {},
     "output_type": "display_data"
    }
   ],
   "source": [
    "# Show sample results\n",
    "learn.show_results()"
   ]
  },
  {
   "cell_type": "markdown",
   "metadata": {},
   "source": [
    "## Transfer learning: Fine-tune classifier for global warming sentiment tweets"
   ]
  },
  {
   "cell_type": "code",
   "execution_count": 29,
   "metadata": {},
   "outputs": [],
   "source": [
    "data_clas = TextClasDataBunch.from_df('./',train_df = train, valid_df = val,\n",
    "                                     tokenizer = myTokenizer, vocab = data_lm.train_ds.vocab, \n",
    "                                            min_freq = 1, bs =32)\n",
    "data_clas.save()"
   ]
  },
  {
   "cell_type": "code",
   "execution_count": 30,
   "metadata": {},
   "outputs": [
    {
     "data": {
      "text/html": [
       "<table>  <col width='90%'>  <col width='10%'>  <tr>\n",
       "    <th>text</th>\n",
       "    <th>target</th>\n",
       "  </tr>\n",
       "  <tr>\n",
       "    <th>xxbos xxfld 1 xxup for xxup all xxup you xxup xxunk xxup that xxup xxunk xxup in xxup al xxup gore xxup 's xxup global xxup warming xxup scam , i xxup think xxup its xxup time xxup to xxup kick xxup his xxup ass xxup and xxup get xxup your xxup money xxup back .</th>\n",
       "    <th>No</th>\n",
       "  </tr>\n",
       "  <tr>\n",
       "    <th>xxbos xxfld 1 xxup made xxup up xxup numbers , xxup false xxup data , xxup east xxup coast xxup buried xxup in xxup snow , xxup reason xxup to xxup keep xxup pushing xxup global xxup warming xxup is xxup only xxup to xxup have xxup control xxup of xxup our xxup money</th>\n",
       "    <th>No</th>\n",
       "  </tr>\n",
       "  <tr>\n",
       "    <th>xxbos xxfld 1 xxup how xxup about xxup all xxup that xxup snow xxup in xxup the xxup washington xxup area ? xxup how xxup 's xxup that \" xxup global xxup warming \" xxup working xxup out xxup for xxup you xxup xxunk . xxup al xxup gore ?</th>\n",
       "    <th>No</th>\n",
       "  </tr>\n",
       "  <tr>\n",
       "    <th>xxbos xxfld 1 xxmaj dear xxmaj stupid xxmaj people xxmaj who xxmaj think xxmaj these xxmaj winter xxmaj storms xxmaj means xxmaj there 's xxmaj no xxmaj such xxmaj thing xxmaj as xxmaj global xxmaj warming , xxmaj you 're stupid . xxmaj love , xxmaj shut up via</th>\n",
       "    <th>Yes</th>\n",
       "  </tr>\n",
       "  <tr>\n",
       "    <th>xxbos xxfld 1 xxmaj dear xxmaj stupid xxmaj people xxmaj who xxmaj think xxmaj these xxmaj winter xxmaj storms xxmaj means xxmaj there 's xxmaj no xxmaj such xxmaj thing xxmaj as xxmaj global xxmaj warming , xxmaj you 're stupid . xxmaj love , xxmaj shut up</th>\n",
       "    <th>Yes</th>\n",
       "  </tr>\n",
       "</table>\n"
      ],
      "text/plain": [
       "<IPython.core.display.HTML object>"
      ]
     },
     "metadata": {},
     "output_type": "display_data"
    }
   ],
   "source": [
    "data_clas.show_batch()"
   ]
  },
  {
   "cell_type": "markdown",
   "metadata": {},
   "source": [
    "Below are two methods where a customized cross entropy loss and accuracy metric are defined. For some reason, this version of `fastai` asserts that the target data to be fed in the `text_classifier_learner` needs to be of type `long` float. The two customized methods below is one solution to alleviate this issue."
   ]
  },
  {
   "cell_type": "code",
   "execution_count": 31,
   "metadata": {},
   "outputs": [],
   "source": [
    "class MyCrossEntropy(nn.CrossEntropyLoss):\n",
    "  \n",
    "  def forward(self, input, target):\n",
    "    target = target.long()  # ADDED\n",
    "    return F.cross_entropy(input, target, weight=self.weight, ignore_index=self.ignore_index, reduction=self.reduction)"
   ]
  },
  {
   "cell_type": "code",
   "execution_count": 32,
   "metadata": {},
   "outputs": [],
   "source": [
    "def MyAccuracy(input:Tensor, targs:Tensor)->Rank0Tensor:\n",
    "    '''Compute accuracy with targs when input is bs * n_classes.'''\n",
    "    targs = targs.view(-1).long() # ADDED\n",
    "    n = targs.shape[0]\n",
    "    input = input.argmax(dim=-1).view(n,-1)\n",
    "    targs = targs.view(n,-1)\n",
    "    return (input==targs).float().mean()"
   ]
  },
  {
   "cell_type": "code",
   "execution_count": 33,
   "metadata": {},
   "outputs": [],
   "source": [
    "learn = text_classifier_learner(data = data_clas,loss_func = MyCrossEntropy(), drop_mult = 0.7\n",
    "                                , metrics = [MyAccuracy])\n",
    "learn.load_encoder('ft_enc')\n",
    "learn.freeze()"
   ]
  },
  {
   "cell_type": "markdown",
   "metadata": {},
   "source": [
    "### Training by gradual unfreezing layers of the neural network"
   ]
  },
  {
   "cell_type": "markdown",
   "metadata": {},
   "source": [
    "First determine optimal learning rate for the classifier"
   ]
  },
  {
   "cell_type": "code",
   "execution_count": 34,
   "metadata": {},
   "outputs": [
    {
     "data": {
      "text/html": [],
      "text/plain": [
       "<IPython.core.display.HTML object>"
      ]
     },
     "metadata": {},
     "output_type": "display_data"
    },
    {
     "name": "stdout",
     "output_type": "stream",
     "text": [
      "LR Finder is complete, type {learner_name}.recorder.plot() to see the graph.\n"
     ]
    },
    {
     "data": {
      "image/png": "[encoded data removed]",
      "text/plain": [
       "<Figure size 432x288 with 1 Axes>"
      ]
     },
     "metadata": {},
     "output_type": "display_data"
    }
   ],
   "source": [
    "learn.lr_find()\n",
    "learn.recorder.plot()"
   ]
  },
  {
   "cell_type": "code",
   "execution_count": 35,
   "metadata": {},
   "outputs": [
    {
     "data": {
      "text/html": [
       "<table border=\"1\" class=\"dataframe\">\n",
       "  <thead>\n",
       "    <tr style=\"text-align: left;\">\n",
       "      <th>epoch</th>\n",
       "      <th>train_loss</th>\n",
       "      <th>valid_loss</th>\n",
       "      <th>MyAccuracy</th>\n",
       "    </tr>\n",
       "  </thead>\n",
       "  <tbody>\n",
       "    <tr>\n",
       "      <td>1</td>\n",
       "      <td>0.516904</td>\n",
       "      <td>0.491604</td>\n",
       "      <td>0.757396</td>\n",
       "    </tr>\n",
       "  </tbody>\n",
       "</table>"
      ],
      "text/plain": [
       "<IPython.core.display.HTML object>"
      ]
     },
     "metadata": {},
     "output_type": "display_data"
    }
   ],
   "source": [
    "learn.fit_one_cycle(cyc_len=1, max_lr=1e-2, moms=(0.8, 0.7))"
   ]
  },
  {
   "cell_type": "code",
   "execution_count": 36,
   "metadata": {},
   "outputs": [
    {
     "data": {
      "text/html": [
       "<table border=\"1\" class=\"dataframe\">\n",
       "  <thead>\n",
       "    <tr style=\"text-align: left;\">\n",
       "      <th>epoch</th>\n",
       "      <th>train_loss</th>\n",
       "      <th>valid_loss</th>\n",
       "      <th>MyAccuracy</th>\n",
       "    </tr>\n",
       "  </thead>\n",
       "  <tbody>\n",
       "    <tr>\n",
       "      <td>1</td>\n",
       "      <td>0.513716</td>\n",
       "      <td>0.462755</td>\n",
       "      <td>0.794083</td>\n",
       "    </tr>\n",
       "  </tbody>\n",
       "</table>"
      ],
      "text/plain": [
       "<IPython.core.display.HTML object>"
      ]
     },
     "metadata": {},
     "output_type": "display_data"
    }
   ],
   "source": [
    "learn.freeze_to(-2)\n",
    "learn.fit_one_cycle(1, max_lr = slice(1e-2/2.6,1e-2), moms=(0.75, 0.65))"
   ]
  },
  {
   "cell_type": "code",
   "execution_count": 37,
   "metadata": {},
   "outputs": [
    {
     "data": {
      "text/html": [
       "<table border=\"1\" class=\"dataframe\">\n",
       "  <thead>\n",
       "    <tr style=\"text-align: left;\">\n",
       "      <th>epoch</th>\n",
       "      <th>train_loss</th>\n",
       "      <th>valid_loss</th>\n",
       "      <th>MyAccuracy</th>\n",
       "    </tr>\n",
       "  </thead>\n",
       "  <tbody>\n",
       "    <tr>\n",
       "      <td>1</td>\n",
       "      <td>0.474661</td>\n",
       "      <td>0.452382</td>\n",
       "      <td>0.786982</td>\n",
       "    </tr>\n",
       "  </tbody>\n",
       "</table>"
      ],
      "text/plain": [
       "<IPython.core.display.HTML object>"
      ]
     },
     "metadata": {},
     "output_type": "display_data"
    }
   ],
   "source": [
    "learn.freeze_to(-3)\n",
    "learn.fit_one_cycle(1, max_lr = slice(5e-3/(2.6**2),5e-3), moms=(0.7, 0.6))"
   ]
  },
  {
   "cell_type": "code",
   "execution_count": 38,
   "metadata": {},
   "outputs": [
    {
     "data": {
      "text/html": [
       "<table border=\"1\" class=\"dataframe\">\n",
       "  <thead>\n",
       "    <tr style=\"text-align: left;\">\n",
       "      <th>epoch</th>\n",
       "      <th>train_loss</th>\n",
       "      <th>valid_loss</th>\n",
       "      <th>MyAccuracy</th>\n",
       "    </tr>\n",
       "  </thead>\n",
       "  <tbody>\n",
       "    <tr>\n",
       "      <td>1</td>\n",
       "      <td>0.445332</td>\n",
       "      <td>0.441040</td>\n",
       "      <td>0.796450</td>\n",
       "    </tr>\n",
       "    <tr>\n",
       "      <td>2</td>\n",
       "      <td>0.440376</td>\n",
       "      <td>0.435404</td>\n",
       "      <td>0.800000</td>\n",
       "    </tr>\n",
       "  </tbody>\n",
       "</table>"
      ],
      "text/plain": [
       "<IPython.core.display.HTML object>"
      ]
     },
     "metadata": {},
     "output_type": "display_data"
    }
   ],
   "source": [
    "learn.unfreeze()\n",
    "learn.fit_one_cycle(2, max_lr = slice(1e-3/(2.6**3),1e-3), moms=(0.7, 0.6))"
   ]
  },
  {
   "cell_type": "code",
   "execution_count": 39,
   "metadata": {},
   "outputs": [
    {
     "data": {
      "image/png": "[encoded data removed]",
      "text/plain": [
       "<Figure size 432x288 with 1 Axes>"
      ]
     },
     "metadata": {},
     "output_type": "display_data"
    }
   ],
   "source": [
    "learn.recorder.plot_losses()"
   ]
  },
  {
   "cell_type": "markdown",
   "metadata": {},
   "source": [
    "**Observations**: Some overfitting can be seen shortly after epoch 2 in the above training."
   ]
  },
  {
   "cell_type": "code",
   "execution_count": 40,
   "metadata": {},
   "outputs": [
    {
     "data": {
      "text/html": [
       "<table>  <col width='85%'>  <col width='7.5%'>  <col width='7.5%'>  <tr>\n",
       "    <th>text</th>\n",
       "    <th>target</th>\n",
       "    <th>prediction</th>\n",
       "  </tr>\n",
       "  <tr>\n",
       "    <th>xxbos xxfld 1 xxmaj another xxmaj snowstorm : xxmaj what xxmaj happened to xxmaj global xxmaj warming ? xxmaj round 2 : xxmaj blizzards hit xxmaj mid - xxmaj atlantic to xxmaj new xxmaj york ... xxmaj who xxmaj would xxmaj xxunk xxmaj governor xxmaj pat ...</th>\n",
       "    <th>Yes</th>\n",
       "    <th>Yes</th>\n",
       "  </tr>\n",
       "  <tr>\n",
       "    <th>xxbos xxfld 1 xxmaj snow ? xxmaj global xxmaj warming ? xxmaj natural xxmaj laws & xxmaj climate xxmaj change : xxmaj sun xxmaj xxunk xxmaj new ... : xxup law xxup xxunk xxmaj sunday , xxmaj february xxunk , 2010 2 / xxunk / ...</th>\n",
       "    <th>Yes</th>\n",
       "    <th>Yes</th>\n",
       "  </tr>\n",
       "  <tr>\n",
       "    <th>xxbos xxfld 1 xxmaj climate xxmaj denial xxmaj crock of the xxmaj week : \" xxmaj it 's cold . xxmaj so there 's no xxmaj climate xxmaj change \" : xxmaj with xxmaj washington , ... # climate # xxup wwfus # xxup wwf</th>\n",
       "    <th>Yes</th>\n",
       "    <th>Yes</th>\n",
       "  </tr>\n",
       "  <tr>\n",
       "    <th>xxbos xxfld 1 17 . xxmaj xxunk xxunk - do we have the rt . to do this ? xxmaj xxunk : xxunk - xxunk has a xxup lot xxup of xxup risks ( then again , so does runaway climate change ) . :(</th>\n",
       "    <th>Yes</th>\n",
       "    <th>Yes</th>\n",
       "  </tr>\n",
       "  <tr>\n",
       "    <th>xxbos xxfld 1 xxmaj is xxmaj global xxmaj warming xxmaj the xxmaj xxunk xxmaj lie xxmaj ever xxmaj xxunk : xxmaj xxunk xxmaj home xxmaj smart : xxmaj author : xxmaj xxunk xxmaj xxunk xxmaj xxunk : xxmaj is xxmaj global xxmaj warming t ...</th>\n",
       "    <th>No</th>\n",
       "    <th>Yes</th>\n",
       "  </tr>\n",
       "</table>\n"
      ],
      "text/plain": [
       "<IPython.core.display.HTML object>"
      ]
     },
     "metadata": {},
     "output_type": "display_data"
    }
   ],
   "source": [
    "# See some results\n",
    "learn.show_results()"
   ]
  },
  {
   "cell_type": "markdown",
   "metadata": {},
   "source": [
    "## Classification evaluation"
   ]
  },
  {
   "cell_type": "code",
   "execution_count": 41,
   "metadata": {},
   "outputs": [],
   "source": [
    "preds, targets = learn.get_preds()\n",
    "predictions = np.argmax(preds, axis = 1)"
   ]
  },
  {
   "cell_type": "code",
   "execution_count": 42,
   "metadata": {},
   "outputs": [],
   "source": [
    "from sklearn.metrics import classification_report, confusion_matrix"
   ]
  },
  {
   "cell_type": "code",
   "execution_count": 43,
   "metadata": {},
   "outputs": [
    {
     "name": "stdout",
     "output_type": "stream",
     "text": [
      "\n",
      " CLASSIFICATION REPORT: \n",
      "              precision    recall  f1-score   support\n",
      "\n",
      "          NO       0.65      0.57      0.61       231\n",
      "         YES       0.85      0.89      0.87       614\n",
      "\n",
      "   micro avg       0.80      0.80      0.80       845\n",
      "   macro avg       0.75      0.73      0.74       845\n",
      "weighted avg       0.79      0.80      0.80       845\n",
      "\n"
     ]
    },
    {
     "data": {
      "image/png": "[encoded data removed]",
      "text/plain": [
       "<Figure size 576x360 with 2 Axes>"
      ]
     },
     "metadata": {},
     "output_type": "display_data"
    }
   ],
   "source": [
    "class_names = ['NO', 'YES'] # Note the class names are labeled in alphabetical order in fastai.text\n",
    "print('\\n CLASSIFICATION REPORT: \\n', classification_report(targets, predictions, target_names=class_names), sep='') \n",
    "\n",
    "# Confusion matrix\n",
    "plt.figure(figsize=(8,5))\n",
    "sns.set(font_scale=1)\n",
    "cm = confusion_matrix(predictions, targets)\n",
    "#cm = cm.astype('float') / cm.sum(axis=1)[:, np.newaxis]\n",
    "sns.heatmap(cm, cmap='Blues', annot = True, \n",
    "            xticklabels=class_names, yticklabels=class_names)\n",
    "plt.title('Confusion matrix', fontsize=14)\n",
    "plt.show()"
   ]
  },
  {
   "cell_type": "markdown",
   "metadata": {},
   "source": [
    "**Observations**: From the confusion table, it can be seen that the model predicts positive sentiment (i.e., 'Yes') pretty well with a F1-score of 0.87 while predictions on negative sentiment (i.e., 'No') has a lower F1-score of 0.61. Possible reasons could be the imbalance distribution of tweets and that the language syntax of tweets can be quite different from the WikiText-103 corpus that the present model is trained on. One could use the Twitter Sentiment140 dataset available in Kaggle to fine-tune the language model. Do note that the Twitter Sentiment140 dataset does contain about 1 million tweets and so one needs to find a feasible subsample that can capture as many possible nuances as possible for the language model."
   ]
  },
  {
   "cell_type": "markdown",
   "metadata": {},
   "source": [
    "## Conclusions"
   ]
  },
  {
   "cell_type": "markdown",
   "metadata": {},
   "source": [
    "This notebook demonstrated the use of the ULMFiT model for transfer learning on global warming sentiment tweets. The approach to the ULMFiT model can be implemented using the `fastai` API. When taking advantage of the GPU, NLP training can be done relatively quickly with good accuracy compared to vanilla methods like the Keras API. One improvement that may be worth trying is using domain-specific data like a large Twitter Sentiment corpus to capture the language syntax found in tweets. Other improvements such fine-tuning the learning rates but given that the model can be easily overfitted, there is very little room to seek for better rates."
   ]
  }
 ],
 "metadata": {
  "kernelspec": {
   "display_name": "Python 3 (Spyder)",
   "language": "python3",
   "name": "python3"
  },
  "language_info": {
   "codemirror_mode": {
    "name": "ipython",
    "version": 3
   },
   "file_extension": ".py",
   "mimetype": "text/x-python",
   "name": "python",
   "nbconvert_exporter": "python",
   "pygments_lexer": "ipython3",
   "version": "3.7.3"
  }
 },
 "nbformat": 4,
 "nbformat_minor": 2
}
